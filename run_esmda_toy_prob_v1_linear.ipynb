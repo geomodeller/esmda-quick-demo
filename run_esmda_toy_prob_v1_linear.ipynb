{
 "cells": [
  {
   "cell_type": "code",
   "execution_count": null,
   "metadata": {},
   "outputs": [],
   "source": [
    "import numpy as np\n",
    "import matplotlib.pyplot as plt\n",
    "from esmda import ES "
   ]
  },
  {
   "cell_type": "markdown",
   "metadata": {},
   "source": [
    "## STEP 1 - define required functions"
   ]
  },
  {
   "cell_type": "code",
   "execution_count": null,
   "metadata": {},
   "outputs": [],
   "source": [
    "## define toy forward model (X -> f(X) = 3*X[0]-X[1]+2)\n",
    "def forward(X: np.ndarray) -> np.ndarray:\n",
    "    f = 3*X[:,0] - X[:,1] + 2\n",
    "    return f\n",
    "\n",
    "one_of_truth = np.array([-1,-1]).reshape(1,2)\n",
    "def get_observation(X:np.ndarray=one_of_truth, \n",
    "                    mesaurement_error:float = 0.02) -> np.ndarray:\n",
    "    obs = forward(X) + np.random.normal(0,mesaurement_error)\n",
    "    return obs"
   ]
  },
  {
   "cell_type": "markdown",
   "metadata": {},
   "source": [
    "## STEP 2 - how ground truth looks like"
   ]
  },
  {
   "cell_type": "code",
   "execution_count": null,
   "metadata": {},
   "outputs": [],
   "source": [
    "# make ground truth case\n",
    "x_1 = np.linspace(-1,1,100)\n",
    "x_2 = 3*x_1 + 2 \n",
    "plt.plot(x_1, x_2, '-r')\n",
    "plt.grid('equal')\n",
    "plt.xlabel('X1')\n",
    "plt.ylabel('X2')\n",
    "plt.title('groud truth assemblement')"
   ]
  },
  {
   "cell_type": "markdown",
   "metadata": {},
   "source": [
    "## STEP 3 - generate ensemble"
   ]
  },
  {
   "cell_type": "code",
   "execution_count": null,
   "metadata": {},
   "outputs": [],
   "source": [
    "# make ensemble \n",
    "num_of_ensemble = 100\n",
    "range_of_x_1 = [-1, 1]\n",
    "range_of_x_2 = [-1, 5]\n",
    "\n",
    "ensemble = []\n",
    "for i in range(num_of_ensemble):\n",
    "    X_1s = np.random.uniform(low = range_of_x_1[0],high = range_of_x_1[1])\n",
    "    X_2s = np.random.uniform(low = range_of_x_2[0],high = range_of_x_2[1])\n",
    "    ensemble.append([X_1s, X_2s])\n",
    "\n",
    "ensemble = np.array(ensemble)\n",
    "print(f'shape of ensemble = {ensemble.shape}')\n",
    "\n",
    "plt.figure(figsize = (7,3))\n",
    "\n",
    "plt.subplot(1,2,1)\n",
    "plt.hist(ensemble[:,0], edgecolor = 'k', alpha = 0.5)\n",
    "plt.title('ensemble of X1')\n",
    "plt.xlabel('X1')\n",
    "\n",
    "plt.subplot(1,2,2)\n",
    "plt.hist(ensemble[:,1], edgecolor = 'k', alpha = 0.5)\n",
    "plt.title('ensemble of X2')\n",
    "plt.xlabel('X2')"
   ]
  },
  {
   "cell_type": "markdown",
   "metadata": {},
   "source": [
    "## STEP 4 - check ES then run ES-MDA"
   ]
  },
  {
   "cell_type": "code",
   "execution_count": null,
   "metadata": {},
   "outputs": [],
   "source": [
    "?ES"
   ]
  },
  {
   "cell_type": "code",
   "execution_count": null,
   "metadata": {},
   "outputs": [],
   "source": [
    "## run esmda\n",
    "# set up the hyperparameters\n",
    "num_of_iteration = 10\n",
    "stdErrOfDynamic_percentage = 0.05\n",
    "alpha = [20 for i in range(num_of_ensemble)]\n",
    "ground_truth_OBS_with_noise = np.array(get_observation()).reshape(-1,1)\n",
    "\n",
    "# record the initial ensemble\n",
    "ensemble_by_iteration = [ensemble]\n",
    "\n",
    "# start of iteration\n",
    "for iter in range(num_of_iteration):\n",
    "    # get my current ensemble\n",
    "    ensemble_static = ensemble_by_iteration[-1]\n",
    "\n",
    "    # make prediction of ensemble\n",
    "    ensemble_dynamic = forward(ensemble_static)\n",
    "    \n",
    "    # assimilate ensemble\n",
    "    updated_ensemble = ES(OBS = ground_truth_OBS_with_noise, \n",
    "                          static = ensemble_static, \n",
    "                          dynamic = ensemble_dynamic,\n",
    "                          alpha = alpha[iter],\n",
    "                          stdErrOfDynamic_percentage = stdErrOfDynamic_percentage,)\n",
    "    \n",
    "\n",
    "    # in case updated value exceed the range\n",
    "    flag = updated_ensemble[:,0] < range_of_x_1[0]\n",
    "    updated_ensemble[flag, 0] = range_of_x_1[0]\n",
    "    flag = updated_ensemble[:,0] > range_of_x_1[1]\n",
    "    updated_ensemble[flag, 0] = range_of_x_1[1]\n",
    "    flag = updated_ensemble[:,1] < range_of_x_2[0]\n",
    "    updated_ensemble[flag, 1] = range_of_x_2[0]\n",
    "    flag = updated_ensemble[:,1] > range_of_x_2[1]\n",
    "    updated_ensemble[flag, 1] = range_of_x_2[1]\n",
    "\n",
    "    # record the updated ensemble before going to next iteration\n",
    "    ensemble_by_iteration.append(updated_ensemble)"
   ]
  },
  {
   "cell_type": "markdown",
   "metadata": {},
   "source": [
    "## STEP 5 - visualize results"
   ]
  },
  {
   "cell_type": "code",
   "execution_count": null,
   "metadata": {},
   "outputs": [],
   "source": [
    "# visual - initial vs. final ensemble comparison\n",
    "initial_ensemble = ensemble_by_iteration[0]\n",
    "final_ensemble = ensemble_by_iteration[-1]\n",
    "\n",
    "plt.plot(x_1, x_2, '-r', label = 'ground truth', alpha = 0.2)\n",
    "plt.plot(initial_ensemble[:,0], initial_ensemble[:,1], '.', label = 'initial ensemble')\n",
    "plt.plot(final_ensemble[:,0], final_ensemble[:,1], '.', label = 'updated ensemble (final)')\n",
    "plt.grid('equal')\n",
    "plt.legend()\n",
    "plt.xlabel('X1')\n",
    "plt.ylabel('X2')"
   ]
  },
  {
   "cell_type": "code",
   "execution_count": null,
   "metadata": {},
   "outputs": [],
   "source": [
    "# visual - ensemble update progress\n",
    "plt.plot(x_1, x_2, '-r', label = 'ground truth', alpha = 0.2)\n",
    "for i, ensemble in enumerate(ensemble_by_iteration):\n",
    "    plt.scatter(ensemble[:,0], ensemble[:,1], c=np.ones_like(ensemble[:,0])*i + 3,\n",
    "                vmin = 0, vmax = num_of_iteration + 3, \n",
    "                label = f'iteration {i}', cmap = 'Blues')\n",
    "plt.grid('equal')\n",
    "plt.legend()\n",
    "plt.xlabel('X1')\n",
    "plt.ylabel('X2')"
   ]
  },
  {
   "cell_type": "code",
   "execution_count": null,
   "metadata": {},
   "outputs": [],
   "source": [
    "# visual - ensemble update progress\n",
    "plt.figure(figsize = (40,4))\n",
    "plt.suptitle('evolution of essemble over iteration')\n",
    "for i, ensemble in enumerate(ensemble_by_iteration, 1):\n",
    "    plt.subplot(1,11,i)\n",
    "    plt.title(f'iteration {i-1}')\n",
    "    plt.plot(x_1, x_2, '-r', alpha = 0.2)\n",
    "    plt.plot(ensemble[:,0], ensemble[:,1],'.', alpha = 0.5)\n",
    "    plt.grid('equal')\n"
   ]
  },
  {
   "cell_type": "code",
   "execution_count": null,
   "metadata": {},
   "outputs": [],
   "source": [
    "# visual - dynamic response of ensemble\n",
    "response_by_iteration = [forward(ensemble) for ensemble in ensemble_by_iteration]\n",
    "response_by_iteration = np.array(response_by_iteration)\n",
    "\n",
    "plt.figure()\n",
    "plt.title(\"dynamic response over iteration\")\n",
    "plt.boxplot(response_by_iteration.T);\n",
    "plt.xlabel('# of iteration (ESMDA)')\n",
    "plt.ylabel('dynamic response')\n",
    "plt.axhline(y = 0, color = 'r', linestyle = '-', alpha = 0.2, label = 'ground truth')\n",
    "plt.legend()\n"
   ]
  }
 ],
 "metadata": {
  "kernelspec": {
   "display_name": "Python 3",
   "language": "python",
   "name": "python3"
  },
  "language_info": {
   "codemirror_mode": {
    "name": "ipython",
    "version": 3
   },
   "file_extension": ".py",
   "mimetype": "text/x-python",
   "name": "python",
   "nbconvert_exporter": "python",
   "pygments_lexer": "ipython3",
   "version": "3.11.2"
  }
 },
 "nbformat": 4,
 "nbformat_minor": 2
}
