{
 "cells": [
  {
   "cell_type": "code",
   "execution_count": null,
   "metadata": {},
   "outputs": [],
   "source": [
    "import numpy as np\n",
    "import matplotlib.pyplot as plt\n",
    "from esmda import ES "
   ]
  },
  {
   "cell_type": "markdown",
   "metadata": {},
   "source": [
    "## STEP 1 - define required functions"
   ]
  },
  {
   "cell_type": "code",
   "execution_count": null,
   "metadata": {},
   "outputs": [],
   "source": [
    "## define toy forward model (X -> sin(X))\n",
    "# in the real application, inputs should be geospatial info. (e.g., porosity, fracture, etc)\n",
    "# ... and Y will be outcomes from geothermal/reservoir simulation (e.g., temperature, pressure, enthalpy)\n",
    "def forward(a, b):\n",
    "    \"\"\"\n",
    "    This forward model accepts two parameters and returns the sinusoidal function sin(X/a + b).\n",
    "\n",
    "    Args:\n",
    "        a (float): Relaxation parameter.\n",
    "        b (float): Translation parameter.\n",
    "\n",
    "    Returns:\n",
    "        np.array: Sinusoidal values calculated for X in the range [0, 2*pi].\n",
    "    \"\"\"\n",
    "    X = np.linspace(0,np.pi,50)/a + b\n",
    "    Y = np.sin(X)\n",
    "    return Y\n",
    "\n",
    "def get_observation(Y):\n",
    "    \"\"\" \n",
    "    Selects observations from the entire set of simulation/forward outcomes.\n",
    "\n",
    "    Args:\n",
    "        Y (np.array): Array containing simulation results.\n",
    "\n",
    "    Returns:\n",
    "        np.array: Subset of simulation results, including only every 10th element.\n",
    "    \"\"\"\n",
    "    return Y[::10]"
   ]
  },
  {
   "cell_type": "markdown",
   "metadata": {},
   "source": [
    "## STEP 2 - generate ground truth"
   ]
  },
  {
   "cell_type": "code",
   "execution_count": null,
   "metadata": {},
   "outputs": [],
   "source": [
    "# make ground truth case\n",
    "ground_truth_a = 1.5\n",
    "ground_truth_b = np.pi/4\n",
    "\n",
    "ground_truth_Y = forward(ground_truth_a, ground_truth_b)\n",
    "ground_truth_OBS = get_observation(ground_truth_Y)\n",
    "ground_truth_OBS_with_noise = ground_truth_OBS * (1 + np.random.normal(0,0.02,ground_truth_OBS.shape))\n",
    "\n",
    "obs_loc = np.linspace(0,50,51)[::10][:-1]\n",
    "\n",
    "plt.plot(ground_truth_Y, label = 'ground truth response')\n",
    "plt.plot(obs_loc, ground_truth_OBS, 'r*', label = 'observations')\n",
    "plt.plot(obs_loc, ground_truth_OBS_with_noise, 'b*', label = 'observations w/ mesaurement error')\n",
    "\n",
    "plt.grid('on')\n",
    "plt.legend()\n",
    "plt.xlabel('domain/time')\n",
    "plt.ylabel('response/observation')"
   ]
  },
  {
   "cell_type": "markdown",
   "metadata": {},
   "source": [
    "## STEP 3 - generate ensemble"
   ]
  },
  {
   "cell_type": "code",
   "execution_count": null,
   "metadata": {},
   "outputs": [],
   "source": [
    "# make ensemble \n",
    "num_of_ensemble = 250\n",
    "range_of_a = [0.5, 2]\n",
    "range_of_b = [-np.pi, np.pi]\n",
    "\n",
    "ensemble = []\n",
    "for i in range(num_of_ensemble):\n",
    "    a = np.random.uniform(low = range_of_a[0],high = range_of_a[1])\n",
    "    b = np.random.uniform(low = range_of_b[0],high = range_of_b[1])\n",
    "    ensemble.append([a, b])\n",
    "\n",
    "ensemble = np.array(ensemble)\n",
    "print(f'shape of ensemble = {ensemble.shape}')\n",
    "\n",
    "plt.figure(figsize = (7,3))\n",
    "\n",
    "plt.subplot(1,2,1)\n",
    "plt.hist(ensemble[:,0], edgecolor = 'k', alpha = 0.5)\n",
    "plt.title('ensemble of a')\n",
    "plt.xlabel('a')\n",
    "\n",
    "plt.subplot(1,2,2)\n",
    "plt.hist(ensemble[:,1], edgecolor = 'k', alpha = 0.5)\n",
    "plt.title('ensemble of b')\n",
    "plt.xlabel('b')"
   ]
  },
  {
   "cell_type": "markdown",
   "metadata": {},
   "source": [
    "## STEP 4 - check ES then run ES-MDA"
   ]
  },
  {
   "cell_type": "code",
   "execution_count": null,
   "metadata": {},
   "outputs": [],
   "source": [
    "?ES"
   ]
  },
  {
   "cell_type": "code",
   "execution_count": null,
   "metadata": {},
   "outputs": [],
   "source": [
    "# run esmda\n",
    "num_of_iteration = 4\n",
    "alpha = [20 for i in range(num_of_ensemble)]\n",
    "stdErrOfDynamic_percentage = 0.02\n",
    "\n",
    "ensemble_by_iteration = [ensemble]\n",
    "\n",
    "# start of iteration\n",
    "for iter in range(num_of_iteration):\n",
    "    # get my current ensemble\n",
    "    ensemble_static = ensemble_by_iteration[-1]\n",
    "\n",
    "    # make prediction of ensemble\n",
    "    ensemble_dynamic = []\n",
    "    for i in range(num_of_ensemble):\n",
    "        a = ensemble_static[i,0]\n",
    "        b = ensemble_static[i,1]\n",
    "        Y = forward(a, b)\n",
    "        dynamic = get_observation(Y)\n",
    "        ensemble_dynamic.append(dynamic)\n",
    "    ensemble_dynamic = np.array(ensemble_dynamic)\n",
    "    \n",
    "    # assimilate ensemble\n",
    "    updated_ensemble = ES(OBS = ground_truth_OBS_with_noise, \n",
    "                          static = ensemble_static, \n",
    "                          dynamic = ensemble_dynamic,\n",
    "                          alpha = alpha[iter],\n",
    "                          stdErrOfDynamic_percentage = stdErrOfDynamic_percentage,)\n",
    "    \n",
    "    # in case updated value exceed the range\n",
    "    flag = updated_ensemble[:,0] < range_of_a[0]\n",
    "    updated_ensemble[flag,0] = range_of_a[0]\n",
    "    flag = updated_ensemble[:,0] > range_of_a[1]\n",
    "    updated_ensemble[flag,0] = range_of_a[1]\n",
    "    flag = updated_ensemble[:,1] < range_of_b[0]\n",
    "    updated_ensemble[flag,0] = range_of_b[0]\n",
    "    flag = updated_ensemble[:,1] > range_of_b[1]\n",
    "    updated_ensemble[flag,0] = range_of_b[1]\n",
    "\n",
    "\n",
    "    # record the updated ensemble before going to next iteration\n",
    "    ensemble_by_iteration.append(updated_ensemble)"
   ]
  },
  {
   "cell_type": "markdown",
   "metadata": {},
   "source": [
    "## STEP 5 - visualize results"
   ]
  },
  {
   "cell_type": "code",
   "execution_count": null,
   "metadata": {},
   "outputs": [],
   "source": [
    "# visual outcomes \n",
    "initial_ensemble = ensemble_by_iteration[0]\n",
    "final_ensemble = ensemble_by_iteration[-1]\n",
    "\n",
    "\n",
    "plt.figure(figsize = (7,4))\n",
    "plt.subplot(1,2,1)\n",
    "plt.suptitle('initial ensemble')\n",
    "plt.hist(initial_ensemble[:,0], edgecolor = 'k', alpha = 0.5)\n",
    "plt.axvline(ground_truth_a, color = 'r',label = 'ground truth')\n",
    "plt.title('ensemble of a')\n",
    "plt.xlabel('a')\n",
    "plt.xlim([0.3,2.2])\n",
    "plt.legend()\n",
    "\n",
    "plt.subplot(1,2,2)\n",
    "plt.hist(initial_ensemble[:,1], edgecolor = 'k', alpha = 0.5)\n",
    "plt.axvline(ground_truth_b, color = 'r', label = 'ground truth')\n",
    "plt.title('ensemble of b')\n",
    "plt.xlabel('b')\n",
    "plt.xlim([-np.pi*4/3,+np.pi*4/3])\n",
    "\n",
    "\n",
    "plt.figure(figsize = (7,4))\n",
    "plt.subplot(1,2,1)\n",
    "plt.suptitle('final ensemble')\n",
    "plt.hist(final_ensemble[:,0], edgecolor = 'k', alpha = 0.5)\n",
    "plt.axvline(ground_truth_a, color = 'r',label = 'ground truth')\n",
    "plt.title('ensemble of a')\n",
    "plt.xlabel('a')\n",
    "plt.xlim([0.3,2.2])\n",
    "plt.legend()\n",
    "\n",
    "plt.subplot(1,2,2)\n",
    "plt.hist(final_ensemble[:,1], edgecolor = 'k', alpha = 0.5)\n",
    "plt.axvline(ground_truth_b, color = 'r', label = 'ground truth')\n",
    "plt.title('ensemble of b')\n",
    "plt.xlabel('b')\n",
    "plt.xlim([-np.pi*4/3,+np.pi*4/3])"
   ]
  },
  {
   "cell_type": "code",
   "execution_count": null,
   "metadata": {},
   "outputs": [],
   "source": [
    "# make prediction of ensemble\n",
    "ensemble_Y = []\n",
    "for i in range(num_of_ensemble):\n",
    "    a = initial_ensemble[i,0]\n",
    "    b = initial_ensemble[i,1]\n",
    "    Y = forward(a, b)\n",
    "    ensemble_Y.append(Y)\n",
    "initial_ensemble_Y = np.array(ensemble_Y)    \n",
    "\n",
    "ensemble_Y = []\n",
    "for i in range(num_of_ensemble):\n",
    "    a = final_ensemble[i,0]\n",
    "    b = final_ensemble[i,1]\n",
    "    Y = forward(a, b)\n",
    "    ensemble_Y.append(Y)\n",
    "final_ensemble_Y = np.array(ensemble_Y)    \n",
    "\n"
   ]
  },
  {
   "cell_type": "code",
   "execution_count": null,
   "metadata": {},
   "outputs": [],
   "source": [
    "plt.figure()\n",
    "plt.title('initial ensemble Y')\n",
    "plt.plot(initial_ensemble_Y.T, color ='gray',alpha = 0.1)\n",
    "plt.plot(obs_loc, ground_truth_OBS_with_noise, 'b*', label = 'observations w/ mesaurement error')\n",
    "\n",
    "plt.grid('on')\n",
    "plt.xlabel('domain/time')\n",
    "plt.ylabel('response/observation')\n",
    "plt.legend()\n",
    "\n",
    "plt.figure()\n",
    "plt.title('final ensemble Y')\n",
    "plt.plot(final_ensemble_Y.T, color ='gray',alpha = 0.1)\n",
    "plt.plot(obs_loc, ground_truth_OBS_with_noise, 'b*', label = 'observations w/ mesaurement error')\n",
    "\n",
    "plt.grid('on')\n",
    "plt.xlabel('domain/time')\n",
    "plt.ylabel('response/observation')\n",
    "plt.legend()"
   ]
  }
 ],
 "metadata": {
  "kernelspec": {
   "display_name": "Python 3",
   "language": "python",
   "name": "python3"
  },
  "language_info": {
   "codemirror_mode": {
    "name": "ipython",
    "version": 3
   },
   "file_extension": ".py",
   "mimetype": "text/x-python",
   "name": "python",
   "nbconvert_exporter": "python",
   "pygments_lexer": "ipython3",
   "version": "3.11.2"
  }
 },
 "nbformat": 4,
 "nbformat_minor": 2
}
